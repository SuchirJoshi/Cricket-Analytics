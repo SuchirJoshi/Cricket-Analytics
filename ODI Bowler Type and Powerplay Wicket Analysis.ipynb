{
 "cells": [
  {
   "cell_type": "code",
   "execution_count": 79,
   "metadata": {
    "collapsed": true
   },
   "outputs": [],
   "source": [
    "%matplotlib inline \n",
    "import matplotlib.pyplot as plt\n",
    "import pandas as pd\n",
    "import os\n",
    "import numpy as np\n",
    "import seaborn as sns\n",
    "from scipy import stats\n",
    "\n",
    "import warnings;\n",
    "warnings.filterwarnings('ignore');"
   ]
  },
  {
   "cell_type": "markdown",
   "metadata": {},
   "source": [
    "Now, we load all of the csv files into a master list of matches. "
   ]
  },
  {
   "cell_type": "code",
   "execution_count": 3,
   "metadata": {
    "collapsed": true
   },
   "outputs": [],
   "source": [
    "def process_csvs():\n",
    "    files = os.listdir(r\"/Users/suchirjoshi/Desktop/Cricket Analytics/ODI folder/\")\n",
    "    folder = files[0:len(files)-1]\n",
    "    csvs = []\n",
    "    for file in folder:\n",
    "        if file.endswith('.csv'):\n",
    "            cleaned_file = pd.read_csv((r\"/Users/suchirjoshi/Desktop/Cricket Analytics/ODI folder/\" + \n",
    "                        file), names=([\"type\", \"innings\", \"ball_notation\", \"team_batting\", \n",
    "                                                      \"batsman_on_strike\", \"batsmen_off_strike\", \"bowler\",\n",
    "                                                       \"runs_scored\", \"extras_scored\", \"type_of_dismissal\", \n",
    "                                                       \"person_of_dismissal\"]), engine='python')\n",
    "            match_date_row = cleaned_file[cleaned_file[\"innings\"] == \"date\"]\n",
    "        \n",
    "        \n",
    "            csvs.append(pd.concat([match_date_row, cleaned_file.dropna(thresh=4)]))\n",
    "        \n",
    "    return csvs\n",
    "\n",
    "list_of_matches = process_csvs()"
   ]
  },
  {
   "cell_type": "markdown",
   "metadata": {},
   "source": [
    "An example of a match, with the first row detailing the date and the other rows containing ball-by-ball data. The date row is included so that we can analyze data by year. "
   ]
  },
  {
   "cell_type": "code",
   "execution_count": 44,
   "metadata": {},
   "outputs": [
    {
     "data": {
      "text/html": [
       "<div>\n",
       "<style scoped>\n",
       "    .dataframe tbody tr th:only-of-type {\n",
       "        vertical-align: middle;\n",
       "    }\n",
       "\n",
       "    .dataframe tbody tr th {\n",
       "        vertical-align: top;\n",
       "    }\n",
       "\n",
       "    .dataframe thead th {\n",
       "        text-align: right;\n",
       "    }\n",
       "</style>\n",
       "<table border=\"1\" class=\"dataframe\">\n",
       "  <thead>\n",
       "    <tr style=\"text-align: right;\">\n",
       "      <th></th>\n",
       "      <th>type</th>\n",
       "      <th>innings</th>\n",
       "      <th>ball_notation</th>\n",
       "      <th>team_batting</th>\n",
       "      <th>batsman_on_strike</th>\n",
       "      <th>batsmen_off_strike</th>\n",
       "      <th>bowler</th>\n",
       "      <th>runs_scored</th>\n",
       "      <th>extras_scored</th>\n",
       "      <th>type_of_dismissal</th>\n",
       "      <th>person_of_dismissal</th>\n",
       "    </tr>\n",
       "  </thead>\n",
       "  <tbody>\n",
       "    <tr>\n",
       "      <th>5</th>\n",
       "      <td>info</td>\n",
       "      <td>date</td>\n",
       "      <td>2014/02/23</td>\n",
       "      <td>None</td>\n",
       "      <td>None</td>\n",
       "      <td>None</td>\n",
       "      <td>None</td>\n",
       "      <td>NaN</td>\n",
       "      <td>NaN</td>\n",
       "      <td>None</td>\n",
       "      <td>None</td>\n",
       "    </tr>\n",
       "    <tr>\n",
       "      <th>17</th>\n",
       "      <td>ball</td>\n",
       "      <td>1</td>\n",
       "      <td>0.1</td>\n",
       "      <td>Ireland</td>\n",
       "      <td>WTS Porterfield</td>\n",
       "      <td>PR Stirling</td>\n",
       "      <td>JO Holder</td>\n",
       "      <td>0.0</td>\n",
       "      <td>0.0</td>\n",
       "      <td>NaN</td>\n",
       "      <td>NaN</td>\n",
       "    </tr>\n",
       "    <tr>\n",
       "      <th>18</th>\n",
       "      <td>ball</td>\n",
       "      <td>1</td>\n",
       "      <td>0.2</td>\n",
       "      <td>Ireland</td>\n",
       "      <td>WTS Porterfield</td>\n",
       "      <td>PR Stirling</td>\n",
       "      <td>JO Holder</td>\n",
       "      <td>0.0</td>\n",
       "      <td>0.0</td>\n",
       "      <td>NaN</td>\n",
       "      <td>NaN</td>\n",
       "    </tr>\n",
       "    <tr>\n",
       "      <th>19</th>\n",
       "      <td>ball</td>\n",
       "      <td>1</td>\n",
       "      <td>0.3</td>\n",
       "      <td>Ireland</td>\n",
       "      <td>WTS Porterfield</td>\n",
       "      <td>PR Stirling</td>\n",
       "      <td>JO Holder</td>\n",
       "      <td>0.0</td>\n",
       "      <td>0.0</td>\n",
       "      <td>NaN</td>\n",
       "      <td>NaN</td>\n",
       "    </tr>\n",
       "    <tr>\n",
       "      <th>20</th>\n",
       "      <td>ball</td>\n",
       "      <td>1</td>\n",
       "      <td>0.4</td>\n",
       "      <td>Ireland</td>\n",
       "      <td>WTS Porterfield</td>\n",
       "      <td>PR Stirling</td>\n",
       "      <td>JO Holder</td>\n",
       "      <td>0.0</td>\n",
       "      <td>0.0</td>\n",
       "      <td>NaN</td>\n",
       "      <td>NaN</td>\n",
       "    </tr>\n",
       "  </tbody>\n",
       "</table>\n",
       "</div>"
      ],
      "text/plain": [
       "    type innings ball_notation team_batting batsman_on_strike  \\\n",
       "5   info    date    2014/02/23         None              None   \n",
       "17  ball       1           0.1      Ireland   WTS Porterfield   \n",
       "18  ball       1           0.2      Ireland   WTS Porterfield   \n",
       "19  ball       1           0.3      Ireland   WTS Porterfield   \n",
       "20  ball       1           0.4      Ireland   WTS Porterfield   \n",
       "\n",
       "   batsmen_off_strike     bowler  runs_scored  extras_scored  \\\n",
       "5                None       None          NaN            NaN   \n",
       "17        PR Stirling  JO Holder          0.0            0.0   \n",
       "18        PR Stirling  JO Holder          0.0            0.0   \n",
       "19        PR Stirling  JO Holder          0.0            0.0   \n",
       "20        PR Stirling  JO Holder          0.0            0.0   \n",
       "\n",
       "   type_of_dismissal person_of_dismissal  \n",
       "5               None                None  \n",
       "17               NaN                 NaN  \n",
       "18               NaN                 NaN  \n",
       "19               NaN                 NaN  \n",
       "20               NaN                 NaN  "
      ]
     },
     "execution_count": 44,
     "metadata": {},
     "output_type": "execute_result"
    }
   ],
   "source": [
    "list_of_matches[5].head()"
   ]
  },
  {
   "cell_type": "markdown",
   "metadata": {},
   "source": [
    "Now, we scrape Cricinfo data to get a list of all the fast bowlers and spin bowlers who have bowled in ODI cricket. The following code generates a list, spinners_lst, of all spinners in ODI history. "
   ]
  },
  {
   "cell_type": "code",
   "execution_count": 7,
   "metadata": {
    "collapsed": true
   },
   "outputs": [],
   "source": [
    "import requests\n",
    "from bs4 import BeautifulSoup\n",
    "\n",
    "page = 1\n",
    "spinners_lst = []\n",
    "while page <= 5:\n",
    "    url = (\"http://stats.espncricinfo.com/ci/engine/stats/index.html?bowling_pacespin=2;\" + \n",
    "           \"class=2;filter=advanced;orderby=wickets;page=\" + str(page) + \";size=200;template=results;type=bowling\")\n",
    "    link = requests.get(url)\n",
    "    souped_link = BeautifulSoup(link.content, \"html.parser\")\n",
    "    page_lst = souped_link.find_all(\"tr\", class_= \"data1\")\n",
    "    for td in page_lst:\n",
    "        spinners_lst.append(td.find(\"a\").get_text())\n",
    "    page += 1"
   ]
  },
  {
   "cell_type": "markdown",
   "metadata": {},
   "source": [
    "This code generates a list, pacers_lst, of all fast bowlers. "
   ]
  },
  {
   "cell_type": "code",
   "execution_count": 8,
   "metadata": {
    "collapsed": true
   },
   "outputs": [],
   "source": [
    "page = 1\n",
    "pacers_lst = []\n",
    "while page <= 7:\n",
    "    url = (\"http://stats.espncricinfo.com/ci/engine/stats/index.html?bowling_pacespin=1;\" + \n",
    "           \"class=2;filter=advanced;orderby=wickets;page=\" + str(page) + \";size=200;template=results;type=bowling\")\n",
    "    link = requests.get(url)\n",
    "    souped_link = BeautifulSoup(link.content, \"html.parser\")\n",
    "    page_lst = souped_link.find_all(\"tr\", class_= \"data1\")\n",
    "    for td in page_lst:\n",
    "        pacers_lst.append(td.find(\"a\").get_text())\n",
    "    page += 1"
   ]
  },
  {
   "cell_type": "markdown",
   "metadata": {},
   "source": [
    "As we can see, there have been 901 spinners and 1267 fast bowlers in ODI history for us to analyze. "
   ]
  },
  {
   "cell_type": "code",
   "execution_count": 9,
   "metadata": {},
   "outputs": [
    {
     "name": "stdout",
     "output_type": "stream",
     "text": [
      "901\n",
      "1267\n"
     ]
    }
   ],
   "source": [
    "print(len(spinners_lst))\n",
    "print(len(pacers_lst))"
   ]
  },
  {
   "cell_type": "markdown",
   "metadata": {},
   "source": [
    "This function will conduct analysis on a given ten over interval of each match, and return the following: total score, and runs conceded, balls bowled, and wickets taken for both fast bowlers and spinners in that interval, as well as the eventual innings score. Start and end correspond to the beginning and end of the interval, respectively. \n",
    "\n",
    "There are 3 possible cases, and if a particular innings fulfills any of these cases, it is included in our analysis: \n",
    "\n",
    "1. (For second innings only) The second innings score is more than the first innings score, i.e. a successful chase. \n",
    "2. All ten wickets have fallen in the innings. \n",
    "3. The last ball's ball notation is 49., i.e. the innings lasted its full duration. \n",
    "\n",
    "These cases exclude the occassions where the match has been rained out or called incomplete for another reason. "
   ]
  },
  {
   "cell_type": "code",
   "execution_count": 14,
   "metadata": {
    "collapsed": true
   },
   "outputs": [],
   "source": [
    "def data_generator_by_interval(matches, start, end):\n",
    "    df = pd.DataFrame(np.random.randn(1, 10), columns=[\"Year\", \"Score During Overs\", \"Pacer Runs During Overs\", \"Spinner Runs During Overs\", \"Pacer Balls During Overs\", \"Spinner Balls During Overs\", \"Pacer Wickets During Overs\", \"Spinner Wickets During Overs\", \"Wickets During Overs\", \"Total Innings Score\"])\n",
    "    result = df\n",
    "    for match in matches:\n",
    "        date_str = match.iloc[0, 2]\n",
    "        year_str = date_str[0:date_str.find(\"/\")]\n",
    "        year_float = float(year_str)\n",
    "        \n",
    "        match = match.iloc[1:, :]\n",
    "        try:\n",
    "            match.ball_notation = [float(ball) for ball in match.ball_notation]\n",
    "        except:\n",
    "            continue\n",
    "        \n",
    "        first_innings = match[match.innings == \"1\"]\n",
    "        \n",
    "        first_condition_1 = first_innings[\"ball_notation\"] > start\n",
    "        first_condition_2 = first_innings[\"ball_notation\"] < end\n",
    "        first_criteria = first_condition_1 & first_condition_2\n",
    "        first_specified_overs = first_innings[first_criteria]\n",
    "        \n",
    "        first_innings_specified_over_score = first_specified_overs.iloc[:, 7].sum() + first_specified_overs.iloc[:, 8].sum()\n",
    "        first_specified_overs_wickets = len(first_specified_overs.dropna())\n",
    "        first_innings_total_score = first_innings.iloc[:, 7].sum() + first_innings.iloc[:, 8].sum()\n",
    "        \n",
    "        second_innings = match[match.innings == \"2\"]\n",
    "        \n",
    "        second_condition_1 = second_innings[\"ball_notation\"] > start\n",
    "        second_condition_2 = second_innings[\"ball_notation\"] < end\n",
    "        second_criteria = second_condition_1 & second_condition_2\n",
    "        second_specified_overs = second_innings[second_criteria]\n",
    "        \n",
    "        second_innings_specified_over_score = second_specified_overs.iloc[:, 7].sum() + second_specified_overs.iloc[:, 8].sum()\n",
    "        second_specified_overs_wickets = len(second_specified_overs.dropna())\n",
    "        second_innings_total_score = second_innings.iloc[:, 7].sum() + second_innings.iloc[:, 8].sum()\n",
    "        \n",
    "        first_innings_wickets_total = len(first_innings.dropna())\n",
    "        second_innings_wickets_total = len(second_innings.dropna())\n",
    "        \n",
    "        first_specified_overs_spinners = first_specified_overs[first_specified_overs[\"bowler\"].isin(spinners_lst)]\n",
    "        first_specified_overs_pacers = first_specified_overs[first_specified_overs[\"bowler\"].isin(pacers_lst)]\n",
    "        \n",
    "        second_specified_overs_spinners = second_specified_overs[second_specified_overs[\"bowler\"].isin(spinners_lst)]\n",
    "        second_specified_overs_pacers = second_specified_overs[second_specified_overs[\"bowler\"].isin(pacers_lst)]\n",
    "        \n",
    "        \n",
    "        first_specified_overs_spinner_runs = first_specified_overs_spinners.iloc[:, 7].sum() + first_specified_overs_spinners.iloc[:, 8].sum()\n",
    "        first_specified_overs_pacer_runs = first_specified_overs_pacers.iloc[:, 7].sum() + first_specified_overs_pacers.iloc[:, 8].sum()\n",
    "        \n",
    "        second_specified_overs_spinner_runs = second_specified_overs_spinners.iloc[:, 7].sum() + second_specified_overs_spinners.iloc[:, 8].sum()\n",
    "        second_specified_overs_pacer_runs = second_specified_overs_pacers.iloc[:, 7].sum() + second_specified_overs_pacers.iloc[:, 8].sum()\n",
    "        \n",
    "        \n",
    "        first_specified_overs_spinner_wickets = len(first_specified_overs_spinners.dropna())\n",
    "        first_specified_overs_pacer_wickets = len(first_specified_overs_pacers.dropna())\n",
    "        \n",
    "        second_specified_overs_spinner_wickets = len(second_specified_overs_spinners.dropna())\n",
    "        second_specified_overs_pacer_wickets = len(second_specified_overs_pacers.dropna())\n",
    "\n",
    "        \n",
    "        lst1 = first_innings.ball_notation\n",
    "        if len(lst1) != 0 and (first_innings_wickets_total == 10.0 or round(lst1.iloc[len(lst1)-1]) == 50.0):\n",
    "                \n",
    "            s1 = pd.DataFrame({\"Year\" : [year_float],\n",
    "                               \"Score During Overs\" : [first_innings_specified_over_score],\n",
    "                               \"Pacer Runs During Overs\": [first_specified_overs_pacer_runs],\n",
    "                               \"Spinner Runs During Overs\": [first_specified_overs_spinner_runs], \n",
    "                               \"Pacer Balls During Overs\": [len(first_specified_overs_pacers)],\n",
    "                               \"Spinner Balls During Overs\": [len(first_specified_overs_spinners)],\n",
    "                               \"Pacer Wickets During Overs\": [first_specified_overs_pacer_wickets],\n",
    "                               \"Spinner Wickets During Overs\": [first_specified_overs_spinner_wickets], \n",
    "                          \"Wickets During Overs\" : [first_specified_overs_wickets], \n",
    "                          \"Total Innings Score\" : [first_innings_total_score]})\n",
    "        \n",
    "            result = result.append(s1, ignore_index=True)\n",
    "\n",
    "            \n",
    "        lst2 = second_innings.ball_notation\n",
    "        if len(lst2) != 0 and (second_innings_wickets_total == 10 or second_innings_total_score >= first_innings_total_score or round(lst2.iloc[len(lst2)-1]) == 50.0): \n",
    "                \n",
    "            s2 = pd.DataFrame({\"Year\" : [year_float],\n",
    "                               \"Score During Overs\" : [second_innings_specified_over_score],\n",
    "                               \"Pacer Runs During Overs\": [second_specified_overs_pacer_runs],\n",
    "                               \"Spinner Runs During Overs\": [second_specified_overs_spinner_runs], \n",
    "                               \"Pacer Balls During Overs\": [len(second_specified_overs_pacers)],\n",
    "                               \"Spinner Balls During Overs\": [len(second_specified_overs_spinners)],\n",
    "                               \"Pacer Wickets During Overs\": [second_specified_overs_pacer_wickets],\n",
    "                               \"Spinner Wickets During Overs\": [second_specified_overs_spinner_wickets],\n",
    "                          \"Wickets During Overs\" : [second_specified_overs_wickets], \n",
    "                          \"Total Innings Score\" : [second_innings_total_score]})\n",
    "        \n",
    "            result = result.append(s2, ignore_index=True)\n",
    "    \n",
    "    return result.iloc[1:, :]"
   ]
  },
  {
   "cell_type": "markdown",
   "metadata": {},
   "source": [
    "The following dataframes contain data for each possible 10 over interval. "
   ]
  },
  {
   "cell_type": "code",
   "execution_count": 17,
   "metadata": {
    "collapsed": true
   },
   "outputs": [],
   "source": [
    "first_ten_overs = data_generator_by_interval(list_of_matches, 0, 10)"
   ]
  },
  {
   "cell_type": "code",
   "execution_count": 18,
   "metadata": {
    "collapsed": true
   },
   "outputs": [],
   "source": [
    "second_ten_overs = data_generator_by_interval(list_of_matches, 10, 20)"
   ]
  },
  {
   "cell_type": "code",
   "execution_count": 19,
   "metadata": {
    "collapsed": true
   },
   "outputs": [],
   "source": [
    "third_ten_overs = data_generator_by_interval(list_of_matches, 20, 30)"
   ]
  },
  {
   "cell_type": "code",
   "execution_count": 20,
   "metadata": {
    "collapsed": true
   },
   "outputs": [],
   "source": [
    "fourth_ten_overs = data_generator_by_interval(list_of_matches, 30, 40)"
   ]
  },
  {
   "cell_type": "code",
   "execution_count": 21,
   "metadata": {
    "collapsed": true
   },
   "outputs": [],
   "source": [
    "fifth_ten_overs = data_generator_by_interval(list_of_matches, 40, 50)"
   ]
  },
  {
   "cell_type": "markdown",
   "metadata": {},
   "source": [
    "This is what a sample dataframe looks like. This is the data for overs 0-10. "
   ]
  },
  {
   "cell_type": "code",
   "execution_count": 23,
   "metadata": {},
   "outputs": [
    {
     "data": {
      "text/html": [
       "<div>\n",
       "<style scoped>\n",
       "    .dataframe tbody tr th:only-of-type {\n",
       "        vertical-align: middle;\n",
       "    }\n",
       "\n",
       "    .dataframe tbody tr th {\n",
       "        vertical-align: top;\n",
       "    }\n",
       "\n",
       "    .dataframe thead th {\n",
       "        text-align: right;\n",
       "    }\n",
       "</style>\n",
       "<table border=\"1\" class=\"dataframe\">\n",
       "  <thead>\n",
       "    <tr style=\"text-align: right;\">\n",
       "      <th></th>\n",
       "      <th>Year</th>\n",
       "      <th>Score During Overs</th>\n",
       "      <th>Pacer Runs During Overs</th>\n",
       "      <th>Spinner Runs During Overs</th>\n",
       "      <th>Pacer Balls During Overs</th>\n",
       "      <th>Spinner Balls During Overs</th>\n",
       "      <th>Pacer Wickets During Overs</th>\n",
       "      <th>Spinner Wickets During Overs</th>\n",
       "      <th>Wickets During Overs</th>\n",
       "      <th>Total Innings Score</th>\n",
       "    </tr>\n",
       "  </thead>\n",
       "  <tbody>\n",
       "    <tr>\n",
       "      <th>1</th>\n",
       "      <td>2007.0</td>\n",
       "      <td>63.0</td>\n",
       "      <td>53.0</td>\n",
       "      <td>10.0</td>\n",
       "      <td>49.0</td>\n",
       "      <td>12.0</td>\n",
       "      <td>4.0</td>\n",
       "      <td>0.0</td>\n",
       "      <td>4.0</td>\n",
       "      <td>269.0</td>\n",
       "    </tr>\n",
       "    <tr>\n",
       "      <th>2</th>\n",
       "      <td>2007.0</td>\n",
       "      <td>0.0</td>\n",
       "      <td>0.0</td>\n",
       "      <td>0.0</td>\n",
       "      <td>0.0</td>\n",
       "      <td>0.0</td>\n",
       "      <td>0.0</td>\n",
       "      <td>0.0</td>\n",
       "      <td>0.0</td>\n",
       "      <td>150.0</td>\n",
       "    </tr>\n",
       "    <tr>\n",
       "      <th>3</th>\n",
       "      <td>2014.0</td>\n",
       "      <td>18.0</td>\n",
       "      <td>12.0</td>\n",
       "      <td>0.0</td>\n",
       "      <td>20.0</td>\n",
       "      <td>0.0</td>\n",
       "      <td>2.0</td>\n",
       "      <td>0.0</td>\n",
       "      <td>4.0</td>\n",
       "      <td>157.0</td>\n",
       "    </tr>\n",
       "    <tr>\n",
       "      <th>4</th>\n",
       "      <td>2014.0</td>\n",
       "      <td>34.0</td>\n",
       "      <td>22.0</td>\n",
       "      <td>12.0</td>\n",
       "      <td>30.0</td>\n",
       "      <td>25.0</td>\n",
       "      <td>0.0</td>\n",
       "      <td>0.0</td>\n",
       "      <td>0.0</td>\n",
       "      <td>158.0</td>\n",
       "    </tr>\n",
       "    <tr>\n",
       "      <th>5</th>\n",
       "      <td>2012.0</td>\n",
       "      <td>57.0</td>\n",
       "      <td>50.0</td>\n",
       "      <td>7.0</td>\n",
       "      <td>50.0</td>\n",
       "      <td>12.0</td>\n",
       "      <td>2.0</td>\n",
       "      <td>1.0</td>\n",
       "      <td>3.0</td>\n",
       "      <td>190.0</td>\n",
       "    </tr>\n",
       "  </tbody>\n",
       "</table>\n",
       "</div>"
      ],
      "text/plain": [
       "     Year  Score During Overs  Pacer Runs During Overs  \\\n",
       "1  2007.0                63.0                     53.0   \n",
       "2  2007.0                 0.0                      0.0   \n",
       "3  2014.0                18.0                     12.0   \n",
       "4  2014.0                34.0                     22.0   \n",
       "5  2012.0                57.0                     50.0   \n",
       "\n",
       "   Spinner Runs During Overs  Pacer Balls During Overs  \\\n",
       "1                       10.0                      49.0   \n",
       "2                        0.0                       0.0   \n",
       "3                        0.0                      20.0   \n",
       "4                       12.0                      30.0   \n",
       "5                        7.0                      50.0   \n",
       "\n",
       "   Spinner Balls During Overs  Pacer Wickets During Overs  \\\n",
       "1                        12.0                         4.0   \n",
       "2                         0.0                         0.0   \n",
       "3                         0.0                         2.0   \n",
       "4                        25.0                         0.0   \n",
       "5                        12.0                         2.0   \n",
       "\n",
       "   Spinner Wickets During Overs  Wickets During Overs  Total Innings Score  \n",
       "1                           0.0                   4.0                269.0  \n",
       "2                           0.0                   0.0                150.0  \n",
       "3                           0.0                   4.0                157.0  \n",
       "4                           0.0                   0.0                158.0  \n",
       "5                           1.0                   3.0                190.0  "
      ]
     },
     "execution_count": 23,
     "metadata": {},
     "output_type": "execute_result"
    }
   ],
   "source": [
    "fifth_ten_overs.head()"
   ]
  },
  {
   "cell_type": "markdown",
   "metadata": {},
   "source": [
    "Now, we calculate the economy, strike rate, and proportion of deliveries bowled for each type of bowler, given a certain interval dataframe. "
   ]
  },
  {
   "cell_type": "code",
   "execution_count": 29,
   "metadata": {
    "collapsed": true
   },
   "outputs": [],
   "source": [
    "def interval_data_generator(interval):\n",
    "\n",
    "    pacer_economy = (interval[\"Pacer Runs During Overs\"].sum() / interval[\"Pacer Balls During Overs\"].sum()) * 6\n",
    "    spinner_economy = (interval[\"Spinner Runs During Overs\"].sum() / interval[\"Spinner Balls During Overs\"].sum()) * 6\n",
    "    pacer_strike_rate = 1 / (interval[\"Pacer Wickets During Overs\"].sum() / interval[\"Pacer Balls During Overs\"].sum())\n",
    "    spinner_strike_rate = 1 / (interval[\"Spinner Wickets During Overs\"].sum() / interval[\"Spinner Balls During Overs\"].sum())\n",
    "    pacer_proportion_ratio = (interval[\"Pacer Balls During Overs\"].sum() / (interval[\"Pacer Balls During Overs\"].sum() + interval[\"Spinner Balls During Overs\"].sum())) * 100\n",
    "    spinner_proportion_ratio = 100 - pacer_proportion_ratio\n",
    "    \n",
    "    return [pacer_economy, spinner_economy, pacer_strike_rate, spinner_strike_rate, pacer_proportion_ratio, spinner_proportion_ratio]"
   ]
  },
  {
   "cell_type": "markdown",
   "metadata": {},
   "source": [
    "Here, we calculate the data for each interval, and construct a dataframe out of it. "
   ]
  },
  {
   "cell_type": "code",
   "execution_count": 32,
   "metadata": {
    "collapsed": true
   },
   "outputs": [],
   "source": [
    "interval_data = {\"0-10\" : interval_data_generator(first_ten_overs), \n",
    "                \"10-20\" : interval_data_generator(second_ten_overs), \n",
    "                \"20-30\" : interval_data_generator(third_ten_overs), \n",
    "                \"30-40\" : interval_data_generator(fourth_ten_overs), \n",
    "                \"40-50\" : interval_data_generator(fifth_ten_overs)}"
   ]
  },
  {
   "cell_type": "code",
   "execution_count": 42,
   "metadata": {
    "collapsed": true
   },
   "outputs": [],
   "source": [
    "interval_dataframe = pd.DataFrame(data=interval_data).T\n",
    "interval_dataframe.columns = [\"Pacer Economy\", \"Spinner Economy\", \"Pacer Strike Rate\", \n",
    "                              \"Spinner Strike Rate\", \"Pacer Proportion\", \"Spinner Proportion\"]"
   ]
  },
  {
   "cell_type": "code",
   "execution_count": 43,
   "metadata": {},
   "outputs": [
    {
     "data": {
      "text/html": [
       "<div>\n",
       "<style scoped>\n",
       "    .dataframe tbody tr th:only-of-type {\n",
       "        vertical-align: middle;\n",
       "    }\n",
       "\n",
       "    .dataframe tbody tr th {\n",
       "        vertical-align: top;\n",
       "    }\n",
       "\n",
       "    .dataframe thead th {\n",
       "        text-align: right;\n",
       "    }\n",
       "</style>\n",
       "<table border=\"1\" class=\"dataframe\">\n",
       "  <thead>\n",
       "    <tr style=\"text-align: right;\">\n",
       "      <th></th>\n",
       "      <th>Pacer Economy</th>\n",
       "      <th>Spinner Economy</th>\n",
       "      <th>Pacer Strike Rate</th>\n",
       "      <th>Spinner Strike Rate</th>\n",
       "      <th>Pacer Proportion</th>\n",
       "      <th>Spinner Proportion</th>\n",
       "    </tr>\n",
       "  </thead>\n",
       "  <tbody>\n",
       "    <tr>\n",
       "      <th>0-10</th>\n",
       "      <td>4.547737</td>\n",
       "      <td>4.388857</td>\n",
       "      <td>45.749762</td>\n",
       "      <td>42.463415</td>\n",
       "      <td>93.231343</td>\n",
       "      <td>6.768657</td>\n",
       "    </tr>\n",
       "    <tr>\n",
       "      <th>10-20</th>\n",
       "      <td>4.522922</td>\n",
       "      <td>4.297413</td>\n",
       "      <td>46.654437</td>\n",
       "      <td>53.128518</td>\n",
       "      <td>62.427937</td>\n",
       "      <td>37.572063</td>\n",
       "    </tr>\n",
       "    <tr>\n",
       "      <th>20-30</th>\n",
       "      <td>4.781754</td>\n",
       "      <td>4.602910</td>\n",
       "      <td>45.919317</td>\n",
       "      <td>51.201426</td>\n",
       "      <td>40.719032</td>\n",
       "      <td>59.280968</td>\n",
       "    </tr>\n",
       "    <tr>\n",
       "      <th>30-40</th>\n",
       "      <td>5.415710</td>\n",
       "      <td>4.866632</td>\n",
       "      <td>35.272727</td>\n",
       "      <td>38.881797</td>\n",
       "      <td>50.932307</td>\n",
       "      <td>49.067693</td>\n",
       "    </tr>\n",
       "    <tr>\n",
       "      <th>40-50</th>\n",
       "      <td>7.308770</td>\n",
       "      <td>6.180811</td>\n",
       "      <td>17.141356</td>\n",
       "      <td>22.138930</td>\n",
       "      <td>70.666522</td>\n",
       "      <td>29.333478</td>\n",
       "    </tr>\n",
       "  </tbody>\n",
       "</table>\n",
       "</div>"
      ],
      "text/plain": [
       "       Pacer Economy  Spinner Economy  Pacer Strike Rate  Spinner Strike Rate  \\\n",
       "0-10        4.547737         4.388857          45.749762            42.463415   \n",
       "10-20       4.522922         4.297413          46.654437            53.128518   \n",
       "20-30       4.781754         4.602910          45.919317            51.201426   \n",
       "30-40       5.415710         4.866632          35.272727            38.881797   \n",
       "40-50       7.308770         6.180811          17.141356            22.138930   \n",
       "\n",
       "       Pacer Proportion  Spinner Proportion  \n",
       "0-10          93.231343            6.768657  \n",
       "10-20         62.427937           37.572063  \n",
       "20-30         40.719032           59.280968  \n",
       "30-40         50.932307           49.067693  \n",
       "40-50         70.666522           29.333478  "
      ]
     },
     "execution_count": 43,
     "metadata": {},
     "output_type": "execute_result"
    }
   ],
   "source": [
    "interval_dataframe"
   ]
  },
  {
   "cell_type": "markdown",
   "metadata": {},
   "source": [
    "What kind of insights can we draw from this dataframe? Let us first compare economy, strike rate, and proportion of balls bowled for each interval. "
   ]
  },
  {
   "cell_type": "code",
   "execution_count": 61,
   "metadata": {},
   "outputs": [
    {
     "data": {
      "image/png": "[encoded data removed]",
      "text/plain": [
       "<matplotlib.figure.Figure at 0x1153856d8>"
      ]
     },
     "metadata": {},
     "output_type": "display_data"
    }
   ],
   "source": [
    "N = 5\n",
    "pacers = interval_dataframe[\"Pacer Economy\"]\n",
    "spinners = interval_dataframe[\"Spinner Economy\"]\n",
    "\n",
    "ind = np.arange(N) \n",
    "width = 0.30       \n",
    "plt.bar(ind, pacers, width, label='Pacers')\n",
    "plt.bar(ind + width, spinners, width,\n",
    "    label='Spinners')\n",
    "\n",
    "plt.ylabel(\"Economy\")\n",
    "plt.title(\"Pacer vs Spinner Economy\")\n",
    "plt.xlabel(\"Over Interval\")\n",
    "\n",
    "plt.xticks(ind + width / 2, (\"0-10\", \"10-20\", \"20-30\", \"30-40\", \"40-50\"))\n",
    "plt.legend(loc='best')\n",
    "plt.show()"
   ]
  },
  {
   "cell_type": "code",
   "execution_count": 62,
   "metadata": {},
   "outputs": [
    {
     "data": {
      "image/png": "[encoded data removed]",
      "text/plain": [
       "<matplotlib.figure.Figure at 0x114c3dac8>"
      ]
     },
     "metadata": {},
     "output_type": "display_data"
    }
   ],
   "source": [
    "N = 5\n",
    "pacers = interval_dataframe[\"Pacer Strike Rate\"]\n",
    "spinners = interval_dataframe[\"Spinner Strike Rate\"]\n",
    "\n",
    "ind = np.arange(N) \n",
    "width = 0.30       \n",
    "plt.bar(ind, pacers, width, label='Pacers')\n",
    "plt.bar(ind + width, spinners, width,\n",
    "    label='Spinners')\n",
    "\n",
    "plt.ylabel(\"Strike Rate\")\n",
    "plt.title(\"Pacer vs Spinner Strike Rate\")\n",
    "plt.xlabel(\"Over Interval\")\n",
    "\n",
    "plt.xticks(ind + width / 2, (\"0-10\", \"10-20\", \"20-30\", \"30-40\", \"40-50\"))\n",
    "plt.legend(loc='best')\n",
    "plt.show()"
   ]
  },
  {
   "cell_type": "code",
   "execution_count": 60,
   "metadata": {},
   "outputs": [
    {
     "data": {
      "image/png": "[encoded data removed]",
      "text/plain": [
       "<matplotlib.figure.Figure at 0x1165e4550>"
      ]
     },
     "metadata": {},
     "output_type": "display_data"
    }
   ],
   "source": [
    "N = 5\n",
    "pacers = interval_dataframe[\"Pacer Proportion\"]\n",
    "spinners = interval_dataframe[\"Spinner Proportion\"]\n",
    "\n",
    "ind = np.arange(N) \n",
    "width = 0.30       \n",
    "plt.bar(ind, pacers, width, label='Pacers')\n",
    "plt.bar(ind + width, spinners, width,\n",
    "    label='Spinners')\n",
    "\n",
    "plt.ylabel(\"Proportion\")\n",
    "plt.title(\"Pacer vs Spinner Proportion\")\n",
    "plt.xlabel(\"Over Interval\")\n",
    "\n",
    "plt.xticks(ind + width / 2, (\"0-10\", \"10-20\", \"20-30\", \"30-40\", \"40-50\"))\n",
    "plt.legend(loc='best')\n",
    "plt.show()"
   ]
  },
  {
   "cell_type": "markdown",
   "metadata": {},
   "source": [
    "We see that pacers are used more often than spinners except the 20-30th over interval, but spinners are consistently more economical. Furthermore, they take wickets more often than pacers in the PowerPlay overs, perhaps dispelling the myth that fast bowlers are the more aggressive choice early on.\n",
    "\n",
    "Now, let us explore some interesting strategy implications. As a batting team, how can we best increase our total innings score?"
   ]
  },
  {
   "cell_type": "code",
   "execution_count": 76,
   "metadata": {},
   "outputs": [
    {
     "data": {
      "image/png": "[encoded data removed]",
      "text/plain": [
       "<matplotlib.figure.Figure at 0x114113710>"
      ]
     },
     "metadata": {},
     "output_type": "display_data"
    }
   ],
   "source": [
    "median_first_ten_overs = first_ten_overs.groupby(\"Wickets During Overs\", as_index=False).median()\n",
    "plt.xlabel(\"Wickets Lost During First 10 Overs\")\n",
    "plt.ylabel(\"Median Total Innings Score\")\n",
    "median_x = median_first_ten_overs[\"Wickets During Overs\"]\n",
    "median_y = median_first_ten_overs[\"Total Innings Score\"]\n",
    "plt.scatter(median_x, median_y, label=\"Wickets After 10 Overs vs Median Score\", s=50)\n",
    "plt.title(\"Wickets Lost During PowerPlay Overs vs Median Total Innings Score\")\n",
    "plt.plot(np.unique(median_x), np.poly1d(np.polyfit(median_x, median_y, 1))(np.unique(median_x)), c=\"c\", linewidth=3)\n",
    "plt.show()"
   ]
  },
  {
   "cell_type": "code",
   "execution_count": 80,
   "metadata": {},
   "outputs": [
    {
     "data": {
      "text/plain": [
       "LinregressResult(slope=-29.583333333333332, intercept=276.79166666666663, rvalue=-0.98177027045447551, pvalue=1.4939080415698161e-05, stderr=2.3381823198473133)"
      ]
     },
     "execution_count": 80,
     "metadata": {},
     "output_type": "execute_result"
    }
   ],
   "source": [
    "stats.linregress(median_x, median_y)"
   ]
  },
  {
   "cell_type": "markdown",
   "metadata": {},
   "source": [
    "There's a clear negative correlation between wickets lost in the PowerPlay and total innings score! Our line of best fit has an r-value of -0.98, which indicates that it is a very strong relationship indeed. Furthermore, the line has a slope of -29.5833. This means that for every wicket that a batting team loses in the PowerPlay, the expected score drops by 30!"
   ]
  },
  {
   "cell_type": "code",
   "execution_count": 93,
   "metadata": {
    "collapsed": true
   },
   "outputs": [],
   "source": [
    "median_spinners_balls_bowled_first_ten = first_ten_overs.groupby(\"Spinner Balls During Overs\", as_index=False).median()"
   ]
  },
  {
   "cell_type": "code",
   "execution_count": 106,
   "metadata": {},
   "outputs": [
    {
     "data": {
      "text/plain": [
       "[237.0, 236.0, 235.0, 242.5, 211.5, 217.0, 189.0, 178.0, 188.0, 208.0]"
      ]
     },
     "execution_count": 106,
     "metadata": {},
     "output_type": "execute_result"
    }
   ],
   "source": [
    "starts = [0.0, 6.0, 12.0, 18.0, 24.0, 30.0, 36.0, 42.0, 48.0, 54.0]\n",
    "medians = []\n",
    "\n",
    "for start in starts:\n",
    "    median_table = first_ten_overs.loc[(first_ten_overs[\"Spinner Balls During Overs\"] >= start) & \n",
    "                                       (first_ten_overs[\"Spinner Balls During Overs\"] <= (start + 6.0))]\n",
    "    median_score = np.median(median_table[\"Total Innings Score\"])\n",
    "    medians.append(median_score)\n",
    "    \n",
    "medians"
   ]
  },
  {
   "cell_type": "code",
   "execution_count": 108,
   "metadata": {},
   "outputs": [
    {
     "data": {
      "image/png": "[encoded data removed]",
      "text/plain": [
       "<matplotlib.figure.Figure at 0x1a1fc77be0>"
      ]
     },
     "metadata": {},
     "output_type": "display_data"
    }
   ],
   "source": [
    "median_spinner_x = median_spinners_balls_bowled_first_ten[\"Spinner Balls During Overs\"]\n",
    "median_spinner_y = median_spinners_balls_bowled_first_ten[\"Total Innings Score\"]\n",
    "#plt.yticks(np.arange(150, 350, 50))\n",
    "plt.xlabel(\"Spinner Balls Bowled In First 10 Overs\")\n",
    "plt.ylabel(\"Median Total Innings Score\")\n",
    "plt.scatter(median_spinner_x, median_spinner_y, label=\"Spinner Balls Bowled In PowerPlay vs Median Score\", s=50)\n",
    "plt.title(\"Spinner Balls Bowled In PowerPlay vs Median Score\")\n",
    "plt.plot(np.unique(median_spinner_x), np.poly1d(np.polyfit(median_spinner_x, median_spinner_y, 1))(np.unique(median_spinner_x)), c=\"c\", linewidth=3)\n",
    "plt.show()"
   ]
  },
  {
   "cell_type": "code",
   "execution_count": 109,
   "metadata": {},
   "outputs": [
    {
     "data": {
      "text/plain": [
       "LinregressResult(slope=-1.6431770468859341, intercept=256.48362491252624, rvalue=-0.51750650103805673, pvalue=0.001722085281816801, stderr=0.48029113855122707)"
      ]
     },
     "execution_count": 109,
     "metadata": {},
     "output_type": "execute_result"
    }
   ],
   "source": [
    "stats.linregress(median_spinner_x, median_spinner_y)"
   ]
  },
  {
   "cell_type": "markdown",
   "metadata": {},
   "source": [
    "The correlation is definitely less strong here, with an r-value of -0.517, but that's to be expected as there are 60 possibilities (1-60) of the number of balls that spinners can bowl in the powerplay, and therefore it's very high variance. However, there's still a clearly strong trend: the more balls spinners bowl in the PowerPlay, the lower the total innings score tends to be. This is a bottom-line result that can surely help fielding teams. "
   ]
  },
  {
   "cell_type": "code",
   "execution_count": null,
   "metadata": {
    "collapsed": true
   },
   "outputs": [],
   "source": []
  }
 ],
 "metadata": {
  "kernelspec": {
   "display_name": "Python 3",
   "language": "python",
   "name": "python3"
  },
  "language_info": {
   "codemirror_mode": {
    "name": "ipython",
    "version": 3
   },
   "file_extension": ".py",
   "mimetype": "text/x-python",
   "name": "python",
   "nbconvert_exporter": "python",
   "pygments_lexer": "ipython3",
   "version": "3.6.3"
  }
 },
 "nbformat": 4,
 "nbformat_minor": 2
}
