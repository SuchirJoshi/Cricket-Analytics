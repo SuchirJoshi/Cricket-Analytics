{
 "cells": [
  {
   "cell_type": "markdown",
   "metadata": {},
   "source": [
    "## Part 1: Gathering and Cleaning Data"
   ]
  },
  {
   "cell_type": "code",
   "execution_count": 35,
   "metadata": {},
   "outputs": [],
   "source": [
    "#import cell\n",
    "import pandas as pd\n",
    "import numpy as np\n",
    "import scipy\n",
    "import statsmodels.api as sm\n",
    "import matplotlib.pyplot as plt\n",
    "import warnings\n",
    "warnings.filterwarnings('ignore')\n",
    "from sklearn import preprocessing\n",
    "from sklearn.linear_model import LinearRegression\n",
    "from sklearn.preprocessing import StandardScaler\n",
    "from sklearn.model_selection import cross_val_score, GridSearchCV, RandomizedSearchCV\n",
    "from sklearn.ensemble import RandomForestRegressor\n",
    "from sklearn.inspection import permutation_importance\n",
    "import seaborn as sns"
   ]
  },
  {
   "cell_type": "code",
   "execution_count": 3,
   "metadata": {
    "collapsed": true
   },
   "outputs": [],
   "source": [
    "#pipeline\n",
    "def get_X_Y(offense, defense, misc):\n",
    "    \n",
    "    #manipulating defense col names\n",
    "    defense.columns = [\"Opp \" + col if col not in [\"Rk\", \"Team\"] else col for col in defense.columns]\n",
    "    \n",
    "    #making a merged df\n",
    "    misc = misc[[\"Team\", \"W\", \"L\", \"PW\", \"PL\"]]\n",
    "    merged = offense.merge(defense, on=\"Team\").merge(misc, on=\"Team\")\n",
    "    \n",
    "    #adding neccessary cols\n",
    "    merged[\"eFG%\"] = (merged[\"FG\"] + 0.5*merged[\"3P\"]) / merged[\"FGA\"]\n",
    "    merged[\"Opp eFG%\"] = (merged[\"Opp FG\"] + 0.5*merged[\"Opp 3P\"]) / merged[\"Opp FGA\"]\n",
    "    merged[\"TOV%\"] = merged[\"TOV\"] / (merged[\"FGA\"] + (0.44 * merged[\"FTA\"]) + merged[\"TOV\"])\n",
    "    merged[\"Opp TOV%\"] = merged[\"Opp TOV\"] / (merged[\"Opp FGA\"] + (0.44 * merged[\"Opp FTA\"]) + merged[\"Opp TOV\"])\n",
    "    merged[\"ORB%\"] = merged[\"ORB\"] / (merged[\"ORB\"] + merged[\"Opp DRB\"])\n",
    "    merged[\"DRB%\"] = merged[\"DRB\"] / (merged[\"DRB\"] + merged[\"Opp ORB\"])\n",
    "    merged[\"FT STAT\"] = merged[\"FT\"] / merged[\"FGA\"]\n",
    "    merged[\"Opp FT STAT\"] = merged[\"Opp FT\"] / merged[\"Opp FGA\"]\n",
    "    \n",
    "    #creating the 4 factor table\n",
    "    four_factor = merged[[\"Team\", \"W\", \"L\", \"eFG%\", \"Opp eFG%\", \"TOV%\", \"Opp TOV%\", \"ORB%\", \"DRB%\", \n",
    "                      \"FT STAT\", \"Opp FT STAT\"]].iloc[0:30, :]\n",
    "    \n",
    "    #getting X and Y\n",
    "\n",
    "    X = four_factor[[\"eFG%\", \"Opp eFG%\", \"TOV%\", \"Opp TOV%\", \"ORB%\", \"DRB%\", \n",
    "                      \"FT STAT\", \"Opp FT STAT\"]]\n",
    "    \n",
    "    X_standard = (X - X.mean()) / X.std()\n",
    "\n",
    "    Y = four_factor[\"W\"]\n",
    "    \n",
    "    return (X_standard,Y)"
   ]
  },
  {
   "cell_type": "code",
   "execution_count": 4,
   "metadata": {
    "collapsed": true
   },
   "outputs": [],
   "source": [
    "#reading in csvs\n",
    "offense_17_18 = pd.read_csv(\"Offense 17-18.csv\")\n",
    "defense_17_18 = pd.read_csv(\"Defense 17-18.csv\")\n",
    "misc_17_18 = pd.read_csv(\"Misc 17-18.csv\", header=1)"
   ]
  },
  {
   "cell_type": "code",
   "execution_count": 5,
   "metadata": {
    "collapsed": true
   },
   "outputs": [],
   "source": [
    "#building a linear predictor for wins\n",
    "\n",
    "X_17_18, Y_17_18 = get_X_Y(offense_17_18, defense_17_18, misc_17_18)\n",
    "X_all = sm.add_constant((X_17_18).values)"
   ]
  },
  {
   "cell_type": "code",
   "execution_count": 6,
   "metadata": {},
   "outputs": [
    {
     "data": {
      "text/html": [
       "<div>\n",
       "<style scoped>\n",
       "    .dataframe tbody tr th:only-of-type {\n",
       "        vertical-align: middle;\n",
       "    }\n",
       "\n",
       "    .dataframe tbody tr th {\n",
       "        vertical-align: top;\n",
       "    }\n",
       "\n",
       "    .dataframe thead th {\n",
       "        text-align: right;\n",
       "    }\n",
       "</style>\n",
       "<table border=\"1\" class=\"dataframe\">\n",
       "  <thead>\n",
       "    <tr style=\"text-align: right;\">\n",
       "      <th></th>\n",
       "      <th>eFG%</th>\n",
       "      <th>Opp eFG%</th>\n",
       "      <th>TOV%</th>\n",
       "      <th>Opp TOV%</th>\n",
       "      <th>ORB%</th>\n",
       "      <th>DRB%</th>\n",
       "      <th>FT STAT</th>\n",
       "      <th>Opp FT STAT</th>\n",
       "    </tr>\n",
       "  </thead>\n",
       "  <tbody>\n",
       "    <tr>\n",
       "      <th>eFG%</th>\n",
       "      <td>1.000000</td>\n",
       "      <td>-0.314328</td>\n",
       "      <td>0.152732</td>\n",
       "      <td>0.027106</td>\n",
       "      <td>-0.066095</td>\n",
       "      <td>-0.148146</td>\n",
       "      <td>0.371148</td>\n",
       "      <td>-0.237004</td>\n",
       "    </tr>\n",
       "    <tr>\n",
       "      <th>Opp eFG%</th>\n",
       "      <td>-0.314328</td>\n",
       "      <td>1.000000</td>\n",
       "      <td>-0.278350</td>\n",
       "      <td>0.151864</td>\n",
       "      <td>-0.150506</td>\n",
       "      <td>-0.163041</td>\n",
       "      <td>-0.036880</td>\n",
       "      <td>-0.192043</td>\n",
       "    </tr>\n",
       "    <tr>\n",
       "      <th>TOV%</th>\n",
       "      <td>0.152732</td>\n",
       "      <td>-0.278350</td>\n",
       "      <td>1.000000</td>\n",
       "      <td>-0.164335</td>\n",
       "      <td>0.047749</td>\n",
       "      <td>-0.348914</td>\n",
       "      <td>-0.067200</td>\n",
       "      <td>0.416009</td>\n",
       "    </tr>\n",
       "    <tr>\n",
       "      <th>Opp TOV%</th>\n",
       "      <td>0.027106</td>\n",
       "      <td>0.151864</td>\n",
       "      <td>-0.164335</td>\n",
       "      <td>1.000000</td>\n",
       "      <td>0.189992</td>\n",
       "      <td>-0.126070</td>\n",
       "      <td>0.000144</td>\n",
       "      <td>0.083423</td>\n",
       "    </tr>\n",
       "    <tr>\n",
       "      <th>ORB%</th>\n",
       "      <td>-0.066095</td>\n",
       "      <td>-0.150506</td>\n",
       "      <td>0.047749</td>\n",
       "      <td>0.189992</td>\n",
       "      <td>1.000000</td>\n",
       "      <td>-0.065879</td>\n",
       "      <td>0.176773</td>\n",
       "      <td>0.109426</td>\n",
       "    </tr>\n",
       "    <tr>\n",
       "      <th>DRB%</th>\n",
       "      <td>-0.148146</td>\n",
       "      <td>-0.163041</td>\n",
       "      <td>-0.348914</td>\n",
       "      <td>-0.126070</td>\n",
       "      <td>-0.065879</td>\n",
       "      <td>1.000000</td>\n",
       "      <td>-0.015526</td>\n",
       "      <td>-0.294829</td>\n",
       "    </tr>\n",
       "    <tr>\n",
       "      <th>FT STAT</th>\n",
       "      <td>0.371148</td>\n",
       "      <td>-0.036880</td>\n",
       "      <td>-0.067200</td>\n",
       "      <td>0.000144</td>\n",
       "      <td>0.176773</td>\n",
       "      <td>-0.015526</td>\n",
       "      <td>1.000000</td>\n",
       "      <td>-0.023534</td>\n",
       "    </tr>\n",
       "    <tr>\n",
       "      <th>Opp FT STAT</th>\n",
       "      <td>-0.237004</td>\n",
       "      <td>-0.192043</td>\n",
       "      <td>0.416009</td>\n",
       "      <td>0.083423</td>\n",
       "      <td>0.109426</td>\n",
       "      <td>-0.294829</td>\n",
       "      <td>-0.023534</td>\n",
       "      <td>1.000000</td>\n",
       "    </tr>\n",
       "  </tbody>\n",
       "</table>\n",
       "</div>"
      ],
      "text/plain": [
       "                 eFG%  Opp eFG%      TOV%  Opp TOV%      ORB%      DRB%  \\\n",
       "eFG%         1.000000 -0.314328  0.152732  0.027106 -0.066095 -0.148146   \n",
       "Opp eFG%    -0.314328  1.000000 -0.278350  0.151864 -0.150506 -0.163041   \n",
       "TOV%         0.152732 -0.278350  1.000000 -0.164335  0.047749 -0.348914   \n",
       "Opp TOV%     0.027106  0.151864 -0.164335  1.000000  0.189992 -0.126070   \n",
       "ORB%        -0.066095 -0.150506  0.047749  0.189992  1.000000 -0.065879   \n",
       "DRB%        -0.148146 -0.163041 -0.348914 -0.126070 -0.065879  1.000000   \n",
       "FT STAT      0.371148 -0.036880 -0.067200  0.000144  0.176773 -0.015526   \n",
       "Opp FT STAT -0.237004 -0.192043  0.416009  0.083423  0.109426 -0.294829   \n",
       "\n",
       "              FT STAT  Opp FT STAT  \n",
       "eFG%         0.371148    -0.237004  \n",
       "Opp eFG%    -0.036880    -0.192043  \n",
       "TOV%        -0.067200     0.416009  \n",
       "Opp TOV%     0.000144     0.083423  \n",
       "ORB%         0.176773     0.109426  \n",
       "DRB%        -0.015526    -0.294829  \n",
       "FT STAT      1.000000    -0.023534  \n",
       "Opp FT STAT -0.023534     1.000000  "
      ]
     },
     "execution_count": 6,
     "metadata": {},
     "output_type": "execute_result"
    }
   ],
   "source": [
    "#examining our features to detect for correlation\n",
    "X_17_18.corr()"
   ]
  },
  {
   "cell_type": "code",
   "execution_count": 7,
   "metadata": {},
   "outputs": [
    {
     "data": {
      "image/png": "[encoded data removed]",
      "text/plain": [
       "<matplotlib.figure.Figure at 0x1c13734390>"
      ]
     },
     "metadata": {},
     "output_type": "display_data"
    }
   ],
   "source": [
    "#a heatmap of correlation\n",
    "corr = X_17_18.corr().abs()\n",
    "fig, ax = plt.subplots(figsize=(10,10))\n",
    "sns.heatmap(corr, fmt='.3f',annot=True)\n",
    "plt.show();"
   ]
  },
  {
   "cell_type": "markdown",
   "metadata": {},
   "source": [
    "None of the correlations are too high, with a highest value of 0.416 between TOV% and Opp FT STAT, so the model looks good to go! The assumptions are reasonably satisfied and the covariates aren't too correlated. So, we can fit our OLS model and examine the results. "
   ]
  },
  {
   "cell_type": "markdown",
   "metadata": {},
   "source": [
    "# Part 2: Linear Regression"
   ]
  },
  {
   "cell_type": "code",
   "execution_count": 8,
   "metadata": {},
   "outputs": [
    {
     "data": {
      "text/html": [
       "<table class=\"simpletable\">\n",
       "<caption>OLS Regression Results</caption>\n",
       "<tr>\n",
       "  <th>Dep. Variable:</th>            <td>W</td>        <th>  R-squared:         </th> <td>   0.922</td>\n",
       "</tr>\n",
       "<tr>\n",
       "  <th>Model:</th>                   <td>OLS</td>       <th>  Adj. R-squared:    </th> <td>   0.893</td>\n",
       "</tr>\n",
       "<tr>\n",
       "  <th>Method:</th>             <td>Least Squares</td>  <th>  F-statistic:       </th> <td>   31.17</td>\n",
       "</tr>\n",
       "<tr>\n",
       "  <th>Date:</th>             <td>Fri, 05 Jun 2020</td> <th>  Prob (F-statistic):</th> <td>5.79e-10</td>\n",
       "</tr>\n",
       "<tr>\n",
       "  <th>Time:</th>                 <td>15:53:03</td>     <th>  Log-Likelihood:    </th> <td> -78.830</td>\n",
       "</tr>\n",
       "<tr>\n",
       "  <th>No. Observations:</th>      <td>    30</td>      <th>  AIC:               </th> <td>   175.7</td>\n",
       "</tr>\n",
       "<tr>\n",
       "  <th>Df Residuals:</th>          <td>    21</td>      <th>  BIC:               </th> <td>   188.3</td>\n",
       "</tr>\n",
       "<tr>\n",
       "  <th>Df Model:</th>              <td>     8</td>      <th>                     </th>     <td> </td>   \n",
       "</tr>\n",
       "<tr>\n",
       "  <th>Covariance Type:</th>      <td>nonrobust</td>    <th>                     </th>     <td> </td>   \n",
       "</tr>\n",
       "</table>\n",
       "<table class=\"simpletable\">\n",
       "<tr>\n",
       "    <td></td>       <th>coef</th>     <th>std err</th>      <th>t</th>      <th>P>|t|</th>  <th>[0.025</th>    <th>0.975]</th>  \n",
       "</tr>\n",
       "<tr>\n",
       "  <th>const</th> <td>   41.0000</td> <td>    0.731</td> <td>   56.098</td> <td> 0.000</td> <td>   39.480</td> <td>   42.520</td>\n",
       "</tr>\n",
       "<tr>\n",
       "  <th>x1</th>    <td>    8.1115</td> <td>    1.032</td> <td>    7.862</td> <td> 0.000</td> <td>    5.966</td> <td>   10.257</td>\n",
       "</tr>\n",
       "<tr>\n",
       "  <th>x2</th>    <td>   -4.6720</td> <td>    0.948</td> <td>   -4.929</td> <td> 0.000</td> <td>   -6.643</td> <td>   -2.701</td>\n",
       "</tr>\n",
       "<tr>\n",
       "  <th>x3</th>    <td>   -2.9696</td> <td>    0.936</td> <td>   -3.171</td> <td> 0.005</td> <td>   -4.917</td> <td>   -1.022</td>\n",
       "</tr>\n",
       "<tr>\n",
       "  <th>x4</th>    <td>    2.1405</td> <td>    0.815</td> <td>    2.627</td> <td> 0.016</td> <td>    0.446</td> <td>    3.835</td>\n",
       "</tr>\n",
       "<tr>\n",
       "  <th>x5</th>    <td>    2.7003</td> <td>    0.815</td> <td>    3.315</td> <td> 0.003</td> <td>    1.006</td> <td>    4.394</td>\n",
       "</tr>\n",
       "<tr>\n",
       "  <th>x6</th>    <td>    1.7665</td> <td>    0.905</td> <td>    1.952</td> <td> 0.064</td> <td>   -0.115</td> <td>    3.648</td>\n",
       "</tr>\n",
       "<tr>\n",
       "  <th>x7</th>    <td>    0.9680</td> <td>    0.860</td> <td>    1.126</td> <td> 0.273</td> <td>   -0.820</td> <td>    2.756</td>\n",
       "</tr>\n",
       "<tr>\n",
       "  <th>x8</th>    <td>   -1.1076</td> <td>    0.975</td> <td>   -1.136</td> <td> 0.269</td> <td>   -3.136</td> <td>    0.921</td>\n",
       "</tr>\n",
       "</table>\n",
       "<table class=\"simpletable\">\n",
       "<tr>\n",
       "  <th>Omnibus:</th>       <td> 0.208</td> <th>  Durbin-Watson:     </th> <td>   1.751</td>\n",
       "</tr>\n",
       "<tr>\n",
       "  <th>Prob(Omnibus):</th> <td> 0.901</td> <th>  Jarque-Bera (JB):  </th> <td>   0.115</td>\n",
       "</tr>\n",
       "<tr>\n",
       "  <th>Skew:</th>          <td>-0.132</td> <th>  Prob(JB):          </th> <td>   0.944</td>\n",
       "</tr>\n",
       "<tr>\n",
       "  <th>Kurtosis:</th>      <td> 2.850</td> <th>  Cond. No.          </th> <td>    2.79</td>\n",
       "</tr>\n",
       "</table>"
      ],
      "text/plain": [
       "<class 'statsmodels.iolib.summary.Summary'>\n",
       "\"\"\"\n",
       "                            OLS Regression Results                            \n",
       "==============================================================================\n",
       "Dep. Variable:                      W   R-squared:                       0.922\n",
       "Model:                            OLS   Adj. R-squared:                  0.893\n",
       "Method:                 Least Squares   F-statistic:                     31.17\n",
       "Date:                Fri, 05 Jun 2020   Prob (F-statistic):           5.79e-10\n",
       "Time:                        15:53:03   Log-Likelihood:                -78.830\n",
       "No. Observations:                  30   AIC:                             175.7\n",
       "Df Residuals:                      21   BIC:                             188.3\n",
       "Df Model:                           8                                         \n",
       "Covariance Type:            nonrobust                                         \n",
       "==============================================================================\n",
       "                 coef    std err          t      P>|t|      [0.025      0.975]\n",
       "------------------------------------------------------------------------------\n",
       "const         41.0000      0.731     56.098      0.000      39.480      42.520\n",
       "x1             8.1115      1.032      7.862      0.000       5.966      10.257\n",
       "x2            -4.6720      0.948     -4.929      0.000      -6.643      -2.701\n",
       "x3            -2.9696      0.936     -3.171      0.005      -4.917      -1.022\n",
       "x4             2.1405      0.815      2.627      0.016       0.446       3.835\n",
       "x5             2.7003      0.815      3.315      0.003       1.006       4.394\n",
       "x6             1.7665      0.905      1.952      0.064      -0.115       3.648\n",
       "x7             0.9680      0.860      1.126      0.273      -0.820       2.756\n",
       "x8            -1.1076      0.975     -1.136      0.269      -3.136       0.921\n",
       "==============================================================================\n",
       "Omnibus:                        0.208   Durbin-Watson:                   1.751\n",
       "Prob(Omnibus):                  0.901   Jarque-Bera (JB):                0.115\n",
       "Skew:                          -0.132   Prob(JB):                        0.944\n",
       "Kurtosis:                       2.850   Cond. No.                         2.79\n",
       "==============================================================================\n",
       "\n",
       "Warnings:\n",
       "[1] Standard Errors assume that the covariance matrix of the errors is correctly specified.\n",
       "\"\"\""
      ]
     },
     "execution_count": 8,
     "metadata": {},
     "output_type": "execute_result"
    }
   ],
   "source": [
    "#fitting our lm and reading output\n",
    "lm = sm.OLS(Y_17_18, X_all)\n",
    "results = lm.fit()\n",
    "results.summary()"
   ]
  },
  {
   "cell_type": "markdown",
   "metadata": {},
   "source": [
    "Our condition number is pretty low, which further indicates low correlation between variables. Our model also seems to be really accurate - the R-squared value is 0.922. The last three factors all contain 0 in their 95% Confidence Interval, and the p-values are above the significance cutoff, but still fairly low. So there isn't much evidence to disregard their use as featues, and they are likely meaningful and somewhat significant in predicting wins. "
   ]
  },
  {
   "cell_type": "code",
   "execution_count": 9,
   "metadata": {
    "collapsed": true
   },
   "outputs": [],
   "source": [
    "#obtaining our predictions and residuals\n",
    "params = np.asarray(results.params).reshape(9,1)\n",
    "Y_17_18_df = pd.DataFrame(Y_17_18)\n",
    "Y_17_18_df[\"Predicted\"] = X_all @ params\n",
    "Y_17_18_df[\"Residuals\"] = Y_17_18_df[\"W\"] - Y_17_18_df[\"Predicted\"]"
   ]
  },
  {
   "cell_type": "code",
   "execution_count": 10,
   "metadata": {},
   "outputs": [
    {
     "data": {
      "image/png": "[encoded data removed]",
      "text/plain": [
       "<matplotlib.figure.Figure at 0x1c1b26c9e8>"
      ]
     },
     "metadata": {},
     "output_type": "display_data"
    }
   ],
   "source": [
    "#making our residual plot\n",
    "plt.scatter(Y_17_18_df[\"Predicted\"], Y_17_18_df[\"Residuals\"])\n",
    "t = np.arange(15, 70, 0.2)\n",
    "plt.plot(t, np.zeros(len(t)), \"b--\")\n",
    "plt.xlabel(\"Predicted Values\")\n",
    "plt.ylabel(\"Residual Values\")\n",
    "plt.title(\"Residual Plot of OLS Model for 2017-2018\")\n",
    "plt.show()"
   ]
  },
  {
   "cell_type": "markdown",
   "metadata": {},
   "source": [
    "Our residual plot looks good - there is no clear trend anywhere and it seems to be gathered around the y=0 line, so our model seems to be pretty accurate. Given these model diagnostics, let's see how this model predicts the 2018-2019 season results!"
   ]
  },
  {
   "cell_type": "code",
   "execution_count": 11,
   "metadata": {},
   "outputs": [
    {
     "data": {
      "text/plain": [
       "LinearRegression()"
      ]
     },
     "execution_count": 11,
     "metadata": {},
     "output_type": "execute_result"
    }
   ],
   "source": [
    "#initalizing our sklearn 2017-2018 model\n",
    "model = LinearRegression(fit_intercept=True)\n",
    "model.fit(X_17_18, Y_17_18)"
   ]
  },
  {
   "cell_type": "code",
   "execution_count": 12,
   "metadata": {
    "collapsed": true
   },
   "outputs": [],
   "source": [
    "offense_18_19 = pd.read_csv(\"Offense 18-19.csv\")\n",
    "defense_18_19 = pd.read_csv(\"Defense 18-19.csv\")\n",
    "misc_18_19 = pd.read_csv(\"Misc 18-19.csv\", header=1)"
   ]
  },
  {
   "cell_type": "code",
   "execution_count": 13,
   "metadata": {
    "collapsed": true
   },
   "outputs": [],
   "source": [
    "#obtaining 2018-2019 data\n",
    "X_18_19, Y_18_19 = get_X_Y(offense_18_19, defense_18_19, misc_18_19)"
   ]
  },
  {
   "cell_type": "code",
   "execution_count": 14,
   "metadata": {},
   "outputs": [
    {
     "data": {
      "text/plain": [
       "0.92647007662243552"
      ]
     },
     "execution_count": 14,
     "metadata": {},
     "output_type": "execute_result"
    }
   ],
   "source": [
    "#our model's score while predicting 2018-2019 outcomes\n",
    "model.score(X_18_19, Y_18_19)"
   ]
  },
  {
   "cell_type": "markdown",
   "metadata": {},
   "source": [
    "This is a really high R-squared value, in fact even higher than the 2017-2018 data that we trained our model on! It both demonstrates the strength and consistency of our model, and how universal Dean Oliver's 4 factors are in predicting team success from season to season."
   ]
  },
  {
   "cell_type": "code",
   "execution_count": 15,
   "metadata": {
    "collapsed": true
   },
   "outputs": [],
   "source": [
    "new_params = np.abs(params.reshape(9,)[1:])\n",
    "\n",
    "shooting = (new_params[0] + new_params[1]) / sum(new_params)\n",
    "turnovers = (new_params[2] + new_params[3]) / sum(new_params)\n",
    "rebounding = (new_params[4] + new_params[5]) / sum(new_params)\n",
    "freethrows = (new_params[6] + new_params[7]) / sum(new_params)"
   ]
  },
  {
   "cell_type": "code",
   "execution_count": 16,
   "metadata": {},
   "outputs": [
    {
     "name": "stdout",
     "output_type": "stream",
     "text": [
      "Shooting: 52.3%\n",
      "Turnovers: 20.9%\n",
      "Rebounding: 18.3%\n",
      "Freethrows: 8.5%\n"
     ]
    }
   ],
   "source": [
    "print(\"Shooting: \" + \"{:.1%}\".format(shooting))\n",
    "print(\"Turnovers: \" + \"{:.1%}\".format(turnovers))\n",
    "print(\"Rebounding: \" + \"{:.1%}\".format(rebounding))\n",
    "print(\"Freethrows: \" + \"{:.1%}\".format(freethrows))"
   ]
  },
  {
   "cell_type": "markdown",
   "metadata": {},
   "source": [
    "These seem to be different than Dean Oliver's weights! His were 40/25/20/15, and our analysis obtains 52/20/19/9, which perhaps can be rounded to 50/20/20/10 for simplicity and ease of interpretability. Shooting seems to be even more important than what Dean Oliver suggests, whereas turnovers and freethrows seem to be slightly less significant in predicting the number of wins. "
   ]
  },
  {
   "cell_type": "markdown",
   "metadata": {},
   "source": [
    "## Part 3: Permutation Importance"
   ]
  },
  {
   "cell_type": "markdown",
   "metadata": {},
   "source": [
    "Now, we will use Sklearn's Permutation Importance Method to estimate the weights of our factors, using our linear regression model. For any given feature, this algorithm works by shuffling the values of that column randomly and examines how this change affects the predictive performance of the model. For more impactful or meaningful features, randomly shuffling them should cause greater impacts on our model accuracy. Let's try running it on our model by running 10 iterations, collecting the mean importance of each feature of each iteration, and then finding the sample mean to estimate the true importance. "
   ]
  },
  {
   "cell_type": "code",
   "execution_count": 17,
   "metadata": {
    "collapsed": true
   },
   "outputs": [],
   "source": [
    "shooting_list = []\n",
    "turnovers_list = []\n",
    "rebounding_list = []\n",
    "freethrows_list = []\n",
    "for i in range(100):\n",
    "    imp = permutation_importance(model, X_17_18, Y_17_18)\n",
    "    means = imp[\"importances_mean\"]\n",
    "    shooting_list.append(means[0] + means[1])\n",
    "    turnovers_list.append(means[2] + means[3])\n",
    "    rebounding_list.append(means[4] + means[5])\n",
    "    freethrows_list.append(means[6] + means[7])\n",
    "\n",
    "shooting_imp = np.mean(shooting_list)\n",
    "turnovers_imp = np.mean(turnovers_list)\n",
    "rebounding_imp = np.mean(rebounding_list)\n",
    "freethrows_imp = np.mean(freethrows_list)\n",
    "\n",
    "imp_arr = np.array([[shooting_imp, turnovers_imp, rebounding_imp, freethrows_imp]])\n",
    "imp_arr_norm = preprocessing.normalize(imp_arr, norm=\"l1\")[0]"
   ]
  },
  {
   "cell_type": "code",
   "execution_count": 18,
   "metadata": {},
   "outputs": [
    {
     "data": {
      "image/png": "[encoded data removed]",
      "text/plain": [
       "<matplotlib.figure.Figure at 0x1c1b2f12b0>"
      ]
     },
     "metadata": {},
     "output_type": "display_data"
    }
   ],
   "source": [
    "#plotting our estimated importances\n",
    "x = np.linspace(1, 100, 100)\n",
    "plt.plot(x, shooting_list, label=\"shooting\")\n",
    "plt.plot(x, turnovers_list, label=\"turnovers\")\n",
    "plt.plot(x, rebounding_list, label=\"rebounding\")\n",
    "plt.plot(x, freethrows_list, label=\"freethrows\")\n",
    "plt.legend()\n",
    "plt.show()"
   ]
  },
  {
   "cell_type": "code",
   "execution_count": 19,
   "metadata": {},
   "outputs": [
    {
     "name": "stdout",
     "output_type": "stream",
     "text": [
      "Shooting: 77.0%\n",
      "Turnovers: 12.0%\n",
      "Rebounding: 9.2%\n",
      "Freethrows: 1.9%\n"
     ]
    }
   ],
   "source": [
    "#our obtained importances\n",
    "print(\"Shooting: \" + \"{:.1%}\".format(imp_arr_norm[0]))\n",
    "print(\"Turnovers: \" + \"{:.1%}\".format(imp_arr_norm[1]))\n",
    "print(\"Rebounding: \" + \"{:.1%}\".format(imp_arr_norm[2]))\n",
    "print(\"Freethrows: \" + \"{:.1%}\".format(imp_arr_norm[3]))"
   ]
  },
  {
   "cell_type": "markdown",
   "metadata": {},
   "source": [
    "Running this analysis to get feature importances, we see that shooting is extremely important, much more so than all of the other factors put together. However, one explanation for this possibly skewed result is that shooting overall seems to be more correlated with other factors. "
   ]
  },
  {
   "cell_type": "code",
   "execution_count": 30,
   "metadata": {},
   "outputs": [],
   "source": [
    "shooting_corr = sum(list(X_17_18.corr().abs()[[\"eFG%\", \"Opp eFG%\"]].sum()))\n",
    "turnovers_corr = sum(list(X_17_18.corr().abs()[[\"TOV%\", \"Opp TOV%\"]].sum()))\n",
    "rebounding_corr = sum(list(X_17_18.corr().abs()[[\"ORB%\", \"DRB%\"]].sum()))\n",
    "freethrows_corr = sum(list(X_17_18.corr().abs()[[\"FT STAT\", \"Opp FT STAT\"]].sum()))"
   ]
  },
  {
   "cell_type": "code",
   "execution_count": 34,
   "metadata": {},
   "outputs": [
    {
     "name": "stdout",
     "output_type": "stream",
     "text": [
      "Shooting: 4.6\n",
      "Turnovers: 4.22\n",
      "Rebounding: 3.97\n",
      "Freethrows: 4.05\n"
     ]
    }
   ],
   "source": [
    "#correlations by factor\n",
    "print(\"Shooting: \" + \"{:.3}\".format(shooting_corr))\n",
    "print(\"Turnovers: \" + \"{:.3}\".format(turnovers_corr))\n",
    "print(\"Rebounding: \" + \"{:.3}\".format(rebounding_corr))\n",
    "print(\"Freethrows: \" + \"{:.3}\".format(freethrows_corr))"
   ]
  },
  {
   "cell_type": "markdown",
   "metadata": {},
   "source": [
    "If we add up the correlations, the shooting factor seems to be the highest by some distance, meaning that by this heuristic it is perhaps the most correlated with other factors. So, even if we pick another feature and randomly shuffle it, we have a lot of information encoded in the shooting columns as well; but if we shuffle the shooting column, then our model loses a lot of information and thus performs comparatively worse. Therefore, given this discrepancy in correlation, perhaps this method is not the best to use. Our earlier linear regression seems more robust to this because it doesn't weight any coefficient too heavily."
   ]
  },
  {
   "cell_type": "markdown",
   "metadata": {},
   "source": [
    "## Part 4: Conclusion"
   ]
  },
  {
   "cell_type": "markdown",
   "metadata": {},
   "source": [
    "Therefore, in conclusion, we stick to our weights derived from our linear regression analysis - \n",
    "\n",
    "Shooting: 50%\n",
    "\n",
    "Turnovers: 20%\n",
    "\n",
    "Rebounding: 20%\n",
    "\n",
    "Freethrows: 10%"
   ]
  }
 ],
 "metadata": {
  "kernelspec": {
   "display_name": "Python 3",
   "language": "python",
   "name": "python3"
  },
  "language_info": {
   "codemirror_mode": {
    "name": "ipython",
    "version": 3
   },
   "file_extension": ".py",
   "mimetype": "text/x-python",
   "name": "python",
   "nbconvert_exporter": "python",
   "pygments_lexer": "ipython3",
   "version": "3.6.3"
  }
 },
 "nbformat": 4,
 "nbformat_minor": 2
}
